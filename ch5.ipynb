{
 "cells": [
  {
   "cell_type": "markdown",
   "metadata": {},
   "source": [
    "**NEWS ARTICLE SUMMARIZER WITH MULTILINGUAL ABILITY**"
   ]
  },
  {
   "cell_type": "markdown",
   "metadata": {},
   "source": [
    "crape online articles, extract their titles and text, and generate concise summaries. Within this lesson, we will walk you through the workflow of constructing a summarizer."
   ]
  },
  {
   "cell_type": "code",
   "execution_count": null,
   "metadata": {},
   "outputs": [],
   "source": [
    "!pip install -qU langchain_cohere\n",
    "!pip install -qU langchain_community\n",
    "!pip install -qU python_dotenv\n",
    "!pip install newspaper3k --upgrade\n",
    "\n"
   ]
  },
  {
   "cell_type": "code",
   "execution_count": 24,
   "metadata": {},
   "outputs": [
    {
     "name": "stderr",
     "output_type": "stream",
     "text": [
      "Python-dotenv could not parse statement starting at line 1\n"
     ]
    }
   ],
   "source": [
    "import os\n",
    "import json\n",
    "from dotenv import load_dotenv\n",
    "\n",
    "load_dotenv()\n",
    "\n",
    "co = os.getenv('COHERE_API_KEY')\n"
   ]
  },
  {
   "cell_type": "code",
   "execution_count": null,
   "metadata": {},
   "outputs": [],
   "source": []
  },
  {
   "cell_type": "code",
   "execution_count": 30,
   "metadata": {},
   "outputs": [
    {
     "name": "stdout",
     "output_type": "stream",
     "text": [
      "Title: Meta claims its new AI supercomputer will set records\n",
      "Text: Ryan Daws is a senior editor at TechForge Media with over a decade of experience in crafting compelling narratives and making complex topics accessible. His articles and interviews with industry leaders have earned him recognition as a key influencer by organisations like Onalytica. Under his leadership, publications have been praised by analyst firms such as Forrester for their excellence and performance. Connect with him on X (@gadget_ry), Bluesky (@gadgetry.bsky.social), and/or Mastodon (@gadgetry@techhub.social)\n",
      "\n",
      "Meta (formerly Facebook) has unveiled an AI supercomputer that it claims will be the world’s fastest.\n",
      "\n",
      "The supercomputer is called the AI Research SuperCluster (RSC) and is yet to be fully complete. However, Meta’s researchers have already begun using it for training large natural language processing (NLP) and computer vision models.\n",
      "\n",
      "RSC is set to be fully built in mid-2022. Meta says that it will be the fastest in the world once complete and the aim is for it to be capable of training models with trillions of parameters.\n",
      "\n",
      "“We hope RSC will help us build entirely new AI systems that can, for example, power real-time voice translations to large groups of people, each speaking a different language, so they can seamlessly collaborate on a research project or play an AR game together,” wrote Meta in a blog post.\n",
      "\n",
      "“Ultimately, the work done with RSC will pave the way toward building technologies for the next major computing platform — the metaverse, where AI-driven applications and products will play an important role.”\n",
      "\n",
      "For production, Meta expects RSC will be 20x faster than Meta’s current V100-based clusters. RSC is also estimated to be 9x faster at running the NVIDIA Collective Communication Library (NCCL) and 3x faster at training large-scale NLP workflows.\n",
      "\n",
      "A model with tens of billions of parameters can finish training in three weeks compared with nine weeks prior to RSC.\n",
      "\n",
      "Meta says that its previous AI research infrastructure only leveraged open source and other publicly-available datasets. RSC was designed with the security and privacy controls in mind to allow Meta to use real-world examples from its production systems in production training.\n",
      "\n",
      "What this means in practice is that Meta can use RSC to advance research for vital tasks such as identifying harmful content on its platforms—using real data from them.\n",
      "\n",
      "“We believe this is the first time performance, reliability, security, and privacy have been tackled at such a scale,” says Meta.\n",
      "\n",
      "(Image Credit: Meta)\n",
      "\n",
      "Want to learn more about AI and big data from industry leaders? Check out AI & Big Data Expo. The next events in the series will be held in Santa Clara on 11-12 May 2022, Amsterdam on 20-21 September 2022, and London on 1-2 December 2022.\n",
      "\n",
      "Explore other upcoming enterprise technology events and webinars powered by TechForge here.\n"
     ]
    }
   ],
   "source": [
    "import requests\n",
    "from newspaper.article import Article\n",
    "headers ={\n",
    "    'User-Agent': 'Mozilla/5.0 (Windows NT 10.0; Win64; x64) AppleWebKit/537.36 (KHTML, like Gecko) Chrome/89.0.4389.82 Safari/537.36'\n",
    "}\n",
    "\n",
    "article_url = \"https://www.artificialintelligence-news.com/2022/01/25/meta-claims-new-ai-supercomputer-will-set-records/\"\n",
    "\n",
    "session = requests.Session()\n",
    "\n",
    "try:\n",
    "    response = session.get(article_url, headers=headers)\n",
    "    \n",
    "    if response.status_code == 200:\n",
    "        article = Article(article_url)\n",
    "        article.download()\n",
    "        article.parse()\n",
    "        \n",
    "        print(f'Title: {article.title}')\n",
    "        print(f'Text: {article.text}')\n",
    "        \n",
    "    else:\n",
    "        print(f\"Failed to fetch article at {article_url}\")\n",
    "except Exception as e:\n",
    "    print(f\"Error occurred while fetcing article at {article_url}: {str(e)}\")\n",
    "              \n",
    "               "
   ]
  },
  {
   "cell_type": "markdown",
   "metadata": {},
   "source": [
    "following code will start by setting the prompt and filling it with the article’s content."
   ]
  },
  {
   "cell_type": "code",
   "execution_count": 31,
   "metadata": {},
   "outputs": [
    {
     "name": "stderr",
     "output_type": "stream",
     "text": [
      "C:\\Users\\Legion\\AppData\\Local\\Temp\\ipykernel_26732\\3389962072.py:34: LangChainDeprecationWarning: The method `BaseChatModel.__call__` was deprecated in langchain-core 0.1.7 and will be removed in 1.0. Use :meth:`~invoke` instead.\n",
      "  summary = chat(messages)\n"
     ]
    },
    {
     "name": "stdout",
     "output_type": "stream",
     "text": [
      "Meta, the company formerly known as Facebook, has announced the development of a powerful AI supercomputer named the AI Research SuperCluster (RSC). Although still under construction, RSC is already being utilized by Meta's researchers for training advanced AI models in natural language processing (NLP) and computer vision.\n",
      "\n",
      "Once completed in mid-2022, Meta anticipates that RSC will be the world's fastest AI supercomputer, capable of training models with an unprecedented number of parameters. This computational power will enable Meta to develop new AI systems with various applications, including real-time multilingual voice translation and augmented reality (AR) gaming.\n",
      "\n",
      "In terms of performance, RSC is expected to significantly outperform Meta's existing systems. It will be 20 times faster for production tasks, 9 times faster at running the NVIDIA Collective Communication Library (NCCL), and 3 times faster for large-scale NLP training. This increased efficiency will reduce training times for complex models from nine weeks to just three weeks.\n",
      "\n",
      "Moreover, RSC has been designed with robust security and privacy controls, allowing Meta to utilize real-world data from its platforms for training purposes. This capability will enhance Meta's ability to research and develop AI systems for critical tasks such as detecting harmful content on its platforms.\n",
      "\n",
      "The company believes that RSC represents a significant milestone in AI infrastructure, addressing performance, reliability, security, and privacy at an unparalleled scale. This supercomputer is seen as a crucial step toward building the metaverse, where AI-driven technologies are expected to play a central role.\n"
     ]
    }
   ],
   "source": [
    "from langchain_core.messages import HumanMessage, SystemMessage\n",
    "\n",
    "# we get the article data from the scraping part\n",
    "article_title = article.title\n",
    "article_text = article.text\n",
    "\n",
    "# prepare template for prompt\n",
    "template = \"\"\"You are a very good assistant that summarizes online articles.\n",
    "\n",
    "Here's the article you want to summarize.\n",
    "\n",
    "==================\n",
    "Title: {article_title}\n",
    "\n",
    "{article_text}\n",
    "==================\n",
    "\n",
    "Write a summary of the previous article.\n",
    "\"\"\"\n",
    "\n",
    "prompt = template.format(article_title=article.title, article_text=article.text)\n",
    "\n",
    "messages = [HumanMessage(content=prompt)]\n",
    "\n",
    "\n",
    "\n",
    "from langchain_cohere import ChatCohere\n",
    "\n",
    "# load the model\n",
    "\n",
    "chat =ChatCohere(temperature=0)\n",
    "\n",
    "# Generate Summary\n",
    "summary = chat(messages)\n",
    "print(summary.content)"
   ]
  },
  {
   "cell_type": "markdown",
   "metadata": {},
   "source": [
    "If we want a bulleted list, we can modify a prompt and get the result."
   ]
  },
  {
   "cell_type": "code",
   "execution_count": 32,
   "metadata": {},
   "outputs": [
    {
     "name": "stdout",
     "output_type": "stream",
     "text": [
      "- Meta, formerly known as Facebook, has announced the development of a powerful AI supercomputer called the AI Research SuperCluster (RSC).\n",
      "- RSC is expected to be the world's fastest supercomputer when it becomes fully operational in mid-2022.\n",
      "- Meta researchers are already utilizing RSC for training large-scale natural language processing (NLP) and computer vision models.\n",
      "- The supercomputer aims to enable the training of models with an unprecedented number of parameters, reaching into the trillions.\n",
      "- Meta anticipates that RSC will significantly accelerate AI research and development, offering a 20x speed improvement over their current V100-based clusters.\n",
      "- With RSC, models containing tens of billions of parameters can be trained in just three weeks, compared to nine weeks previously.\n",
      "- One of the key advantages of RSC is its ability to handle real-world data from Meta's production systems while maintaining robust security and privacy controls.\n",
      "- This capability will enhance Meta's efforts in critical areas such as detecting harmful content on its platforms using actual data from those platforms.\n",
      "- Meta believes that RSC will contribute to the development of new AI systems, including real-time voice translations for multilingual collaboration and AR gaming.\n",
      "- Ultimately, the company sees RSC as a stepping stone towards building technologies for the metaverse, where AI will play a central role.\n"
     ]
    }
   ],
   "source": [
    "# prepare template for prompt\n",
    "template = \"\"\"You are an advanced AI assistant that summarizes online articles into bulleted lists.\n",
    "\n",
    "Here's the article you need to summarize.\n",
    "\n",
    "==================\n",
    "Title: {article_title}\n",
    "\n",
    "{article_text}\n",
    "==================\n",
    "\n",
    "Now, provide a summarized version of the article in a bulleted list format.\n",
    "\"\"\"\n",
    "\n",
    "# format prompt\n",
    "prompt = template.format(article_title=article.title, article_text=article.text)\n",
    "\n",
    "# generate summary\n",
    "summary = chat([HumanMessage(content=prompt)])\n",
    "print(summary.content)"
   ]
  },
  {
   "cell_type": "markdown",
   "metadata": {},
   "source": [
    "If you want to get the summary in **Russian**, you can instruct the model to generate the summary in **Russian language**"
   ]
  },
  {
   "cell_type": "code",
   "execution_count": 34,
   "metadata": {},
   "outputs": [
    {
     "name": "stdout",
     "output_type": "stream",
     "text": [
      "- Meta (ранее известная как Facebook) представила новый суперкомпьютер AI Research SuperCluster (RSC), который, по их заявлениям, станет самым быстрым в мире.\n",
      "- Система RSC еще не полностью готова, но исследователи Meta уже используют ее для обучения крупных моделей обработки естественного языка (NLP) и компьютерного зрения.\n",
      "- Полное строительство RSC планируется завершить к середине 2022 года, и ожидается, что он будет в 20 раз быстрее существующих кластеров Meta V100.\n",
      "- Meta утверждает, что RSC позволит обучать модели с триллионами параметров, что ускорит обучение моделей с десятками миллиардов параметров с девяти до трех недель.\n",
      "- Одна из основных целей RSC - обеспечить безопасность и конфиденциальность, позволяя использовать реальные данные из производственных систем Meta для обучения, что поможет в таких задачах, как выявление вредоносного контента.\n",
      "- Компания считает, что RSC проложит путь к созданию технологий для метавселенной, где приложения и продукты на основе искусственного интеллекта будут играть важную роль.\n"
     ]
    }
   ],
   "source": [
    "# prepare template for prompt\n",
    "template = \"\"\"You are an advanced AI assistant that summarizes online articles into bulleted lists in Russian.\n",
    "\n",
    "Here's the article you need to summarize.\n",
    "\n",
    "==================\n",
    "Title: {article_title}\n",
    "\n",
    "{article_text}\n",
    "==================\n",
    "\n",
    "Now, provide a summarized version of the article in a bulleted list format, in Russian.\n",
    "\"\"\"\n",
    "\n",
    "# format prompt\n",
    "prompt = template.format(article_title=article.title, article_text=article.text)\n",
    "\n",
    "# generate summary\n",
    "summary = chat([HumanMessage(content=prompt)])\n",
    "print(summary.content)"
   ]
  }
 ],
 "metadata": {
  "kernelspec": {
   "display_name": "Cohere",
   "language": "python",
   "name": "python3"
  },
  "language_info": {
   "codemirror_mode": {
    "name": "ipython",
    "version": 3
   },
   "file_extension": ".py",
   "mimetype": "text/x-python",
   "name": "python",
   "nbconvert_exporter": "python",
   "pygments_lexer": "ipython3",
   "version": "3.10.16"
  }
 },
 "nbformat": 4,
 "nbformat_minor": 2
}
